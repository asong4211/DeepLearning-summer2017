{
 "cells": [
  {
   "cell_type": "markdown",
   "metadata": {},
   "source": [
    "# Lab 1: Intro to Python\n",
    "\n",
    "## Table of Contents\n",
    "   1. [Conditional Expressions](#ce)<a href ='#ce'></a>\n",
    "   2. [Sets] {}](#sets)<a href ='#sets'></a>\n",
    "   3. [Lists](#lists)<a href = '#lists'></a>\n",
    "   4. [Tuples](#tuples)<a href = '#tuples'></a> \n",
    "   5. [Range](#range) <a href = '#range'></a>\n",
    "   6. [Zip](#zip) <a href = '#zip'></a>\n",
    "   7. [Dictionary](#dict)<a href ='#dict'></a>\n",
    "    \n"
   ]
  },
  {
   "cell_type": "markdown",
   "metadata": {},
   "source": [
    "<a id = 'ce'></a>\n",
    "## 1. Conditional Expressions\n",
    "\n",
    "    <expression> if <condition> else <expression>\n",
    "    \n",
    "   - the condition should be a boolean expressions. "
   ]
  },
  {
   "cell_type": "code",
   "execution_count": 1,
   "metadata": {},
   "outputs": [
    {
     "name": "stdout",
     "output_type": "stream",
     "text": [
      "Invalid command\n",
      "X is greater than 10\n"
     ]
    }
   ],
   "source": [
    "x = 11\n",
    "y = .5\n",
    "print(2 ** (y + 0.5)) if x + 10 < 0 else print(\"Invalid command\")\n",
    "print(\"X is greater than 10\") if x > 10 else print(\"x is less than 10\")"
   ]
  },
  {
   "cell_type": "markdown",
   "metadata": {},
   "source": [
    "<a id = 'sets'> </a>\n",
    "## 2. Sets:  { }\n",
    "- a set is an unordered collection in which each value occurs at most once. You can use curly brances { } to give an expression whose value is a set. "
   ]
  },
  {
   "cell_type": "code",
   "execution_count": 2,
   "metadata": {},
   "outputs": [
    {
     "name": "stdout",
     "output_type": "stream",
     "text": [
      "{1, 4, 5}\n",
      "{False, True, 'Aiden', 11, 21, 'Bob'}\n"
     ]
    }
   ],
   "source": [
    "x = {1, 1,4,5,1}\n",
    "print(x)\n",
    "# sets can store any data type\n",
    "x = {True, False, 'Aiden', \"Bob\", 21, 11,21,True}\n",
    "print(x)"
   ]
  },
  {
   "cell_type": "code",
   "execution_count": 3,
   "metadata": {},
   "outputs": [
    {
     "name": "stdout",
     "output_type": "stream",
     "text": [
      "The cardinality of the set is 6\n"
     ]
    }
   ],
   "source": [
    "# to find the cardinality of the set, we can use the len() function to find the number of elements in the set\n",
    "print(\"The cardinality of the set is\",len(x))"
   ]
  },
  {
   "cell_type": "code",
   "execution_count": 4,
   "metadata": {},
   "outputs": [
    {
     "name": "stdout",
     "output_type": "stream",
     "text": [
      "110\n",
      "220\n"
     ]
    }
   ],
   "source": [
    "# to find the sum of a collection, we use the sum() function\n",
    "print(sum({1,3,5,76,4,21}))\n",
    "# if you want to start summing up not at 0 but at some other arbitrary number, then you can put in a second argument\n",
    "\n",
    "print(sum({1,3,5,76,4,21},110))"
   ]
  },
  {
   "cell_type": "code",
   "execution_count": 5,
   "metadata": {},
   "outputs": [
    {
     "name": "stdout",
     "output_type": "stream",
     "text": [
      "True\n",
      "False\n",
      "False\n"
     ]
    }
   ],
   "source": [
    "# to test if a specific element is in the set, use 'in', and 'not in'\n",
    "S = {1,2,4,6,12,45}\n",
    "print(2 in S)\n",
    "print(21 in S)\n",
    "print(45 not in S)"
   ]
  },
  {
   "cell_type": "code",
   "execution_count": 6,
   "metadata": {},
   "outputs": [
    {
     "name": "stdout",
     "output_type": "stream",
     "text": [
      "{1, 2, 3, 4, 5}\n",
      "{3}\n"
     ]
    }
   ],
   "source": [
    "# set union and intersection\n",
    "S1 = {1, 2, 3}\n",
    "S2 = {3, 4, 5}\n",
    "print(S1 | S2) # the union of the two set, so this would print out the number that is in S1 and in S2\n",
    "print(S1 & S2) # the intersection of the two set, this prints out the number that is both in S1 and S2"
   ]
  },
  {
   "cell_type": "code",
   "execution_count": 7,
   "metadata": {},
   "outputs": [
    {
     "name": "stdout",
     "output_type": "stream",
     "text": [
      "{1, 2, 4, 12, 45}\n"
     ]
    }
   ],
   "source": [
    "# mutating a set:\n",
    "# S originally contains:{1, 2, 4, 6, 12, 45} , you can use add(.) or remove(.)\n",
    "S.add(76)\n",
    "S.add(6)\n",
    "S.remove(6)\n",
    "S.remove(76)\n",
    "print(S)"
   ]
  },
  {
   "cell_type": "code",
   "execution_count": 8,
   "metadata": {},
   "outputs": [
    {
     "name": "stdout",
     "output_type": "stream",
     "text": [
      "{1, 2, 3, 4, 99, 12, 45, 31}\n"
     ]
    }
   ],
   "source": [
    "# update(...) can be used to add to a set all the elements of another collection (ex: a set or a list) \n",
    "S.update({4,31,2})\n",
    "S.update([1,2,3,99])\n",
    "print(S)"
   ]
  },
  {
   "cell_type": "code",
   "execution_count": 9,
   "metadata": {},
   "outputs": [
    {
     "name": "stdout",
     "output_type": "stream",
     "text": [
      "{1, 2, 4}\n"
     ]
    }
   ],
   "source": [
    "# similary, you can use the intersection_update(...) method, removing from the set all elements not in the other collection\n",
    "S.intersection_update({4,2,1,5,6,7,8})\n",
    "print(S)"
   ]
  },
  {
   "cell_type": "code",
   "execution_count": 10,
   "metadata": {},
   "outputs": [
    {
     "name": "stdout",
     "output_type": "stream",
     "text": [
      "S {1, 4}\n",
      "T {1, 4}\n",
      "S {1, 2, 3, 4, 5}\n",
      "T {1, 3, 4, 5}\n"
     ]
    }
   ],
   "source": [
    "S = {1, 2, 4}\n",
    "T = S\n",
    "T.remove(2) # this will simultaneously remove 2 from S and T\n",
    "print('S',S)\n",
    "print('T',T)\n",
    "# because set is passed by reference, you can do:\n",
    "S = {1,2,3,4,5}\n",
    "T = S.copy()\n",
    "T.remove(2)\n",
    "print('S',S)\n",
    "print('T',T)"
   ]
  },
  {
   "cell_type": "code",
   "execution_count": 11,
   "metadata": {},
   "outputs": [
    {
     "name": "stdout",
     "output_type": "stream",
     "text": [
      "{2, 4, 6}\n",
      "{8, 1, 2, 4, 16}\n"
     ]
    }
   ],
   "source": [
    "# set comprehensions: python provides expressions called comprehensions that let you build collection out of other \n",
    "# collections. \n",
    "print({2 *x for x in {1,2,3}}) # this is called a set comprehension because its value is a set. \n",
    "print({2 ** y for y in {0,1,2,3,4}})"
   ]
  },
  {
   "cell_type": "code",
   "execution_count": 12,
   "metadata": {},
   "outputs": [
    {
     "name": "stdout",
     "output_type": "stream",
     "text": [
      "{25, 36, 49}\n",
      "{25}\n",
      "set()\n",
      "{25}\n",
      "{3, 5, 6, 9, 10, 12, 15, 18}\n",
      "{3, 5, 6, 10, 12, 15, 18}\n"
     ]
    }
   ],
   "source": [
    "print({x*x for x in {6} | {5,7}})\n",
    "print({x*x for x in {6,5} & {5,7}})\n",
    "print({x*x for x in {6,5} & {5,7} if x >30})\n",
    "print({x*x for x in {6,5} & {5,7} if x >4})\n",
    "x = {1,2,3}\n",
    "y = {3,5,6}\n",
    "print({a*b for a in x for b in y}) # iterating over two sets. \n",
    "print({a*b for a in x for b in y if a != b})\n"
   ]
  },
  {
   "cell_type": "markdown",
   "metadata": {},
   "source": [
    "In Python, the empty set is represented by set(). \n",
    "**You CANNOT make a set that has a set as element. ** Python imposes a restriction that the elements of a set must be immutable, but sets are mutable. "
   ]
  },
  {
   "cell_type": "markdown",
   "metadata": {},
   "source": [
    "<a id ='lists'></a>\n",
    "## 2. Lists [ ]\n",
    "- In a list, order is significant and repeated elements are allowed. \n",
    "- Python use square brackets for lists. Empty list is represented using []\n"
   ]
  },
  {
   "cell_type": "code",
   "execution_count": 13,
   "metadata": {},
   "outputs": [
    {
     "name": "stdout",
     "output_type": "stream",
     "text": [
      "[1, 3, 2, 3]\n"
     ]
    }
   ],
   "source": [
    "print([1,2+1,2,3])"
   ]
  },
  {
   "cell_type": "code",
   "execution_count": 14,
   "metadata": {},
   "outputs": [
    {
     "name": "stdout",
     "output_type": "stream",
     "text": [
      "[1, 2, 'Aiden', True, False, {1, 2, 3, 'Aiden'}, [1, 2, [3, 4, [1, 2, 3]]]]\n"
     ]
    }
   ],
   "source": [
    "# there is no restriction on the list, a list can contain a set or another list.\n",
    "a = [1,2,'Aiden',True, False,{1,2,3,\"Aiden\"},[1,2,[3,4,[1,2,3]]]]\n",
    "print(a)"
   ]
  },
  {
   "cell_type": "code",
   "execution_count": 15,
   "metadata": {},
   "outputs": [
    {
     "name": "stdout",
     "output_type": "stream",
     "text": [
      "7\n",
      "13\n",
      "113\n"
     ]
    }
   ],
   "source": [
    "# to find the length of a list, using len()\n",
    "print(len(a))\n",
    "# use sum() to compute numeric list if needed.\n",
    "print(sum([1,2,1,2+3,4]))\n",
    "print(sum([1,2,1,2+3,4],100)) # starts suming at 100\n"
   ]
  },
  {
   "cell_type": "code",
   "execution_count": 16,
   "metadata": {},
   "outputs": [
    {
     "name": "stdout",
     "output_type": "stream",
     "text": [
      "[2, 4, 6, 8]\n",
      "List comprehension [2, 4, 6, 8, 4, 12, 10]\n",
      "Still list comprehension but see the difference?  [2, 4, 6, 8, 10, 12]\n",
      "Set comprehension {2, 4, 6, 8, 10, 12}\n",
      "[4, 5, 6, 8, 10, 12, 12, 15, 18]\n",
      "[3, 4, 2, 6, 8, 12, 6]\n",
      "{2, 3, 4, 6, 8, 12}\n"
     ]
    }
   ],
   "source": [
    "# List comprehensions : a comprehension whose value is a list.\n",
    "a = [2*x for x in {1,2,3,4}]\n",
    "print(a)\n",
    "b = [2*x for x in [1,2,3,4,2,6,5]]\n",
    "d = [2*x for x in {1,2,3,4,2,6,5}]\n",
    "c = {2*x for x in [1,2,3,4,2,6,5]}\n",
    "print(\"List comprehension\", b)\n",
    "print(\"Still list comprehension but see the difference? \",d)\n",
    "print(\"Set comprehension\",c)\n",
    "d = [x*y for x in [1,2,3] for y in [4,5,6]]\n",
    "print(d)\n",
    "e = [x*y for x in [1,2,3] for y in [3,4,2] if x != y]\n",
    "print(e)\n",
    "f = {x*y for x in [1,2,3] for y in [3,4,2] if x!= y}\n",
    "print(f)"
   ]
  },
  {
   "cell_type": "markdown",
   "metadata": {},
   "source": [
    "** Notes: **<br> Unlike sets, where we cannot use index to access the elements because sets does not maintain the same order as you enter them. (You can check if an individual element is the member of a set.) Nevertheless, List does maintain order and therefore individiual elements could be accessed through indexing. "
   ]
  },
  {
   "cell_type": "code",
   "execution_count": 17,
   "metadata": {},
   "outputs": [
    {
     "name": "stdout",
     "output_type": "stream",
     "text": [
      "1\n",
      "2\n",
      "---- Iterating over the entire list ---\n",
      "1\n",
      "2\n",
      "3\n",
      "Hello World\n",
      "True\n",
      "False\n",
      "{1, 2}\n",
      "[1, 2, 3]\n"
     ]
    }
   ],
   "source": [
    "myList = [1,2,3,'Hello World',True,False,{1,2,1+1},[1,2,3]]\n",
    "print(myList[0]) #python use zero indexing like Java and C, unlike Matlab\n",
    "print(myList[1])\n",
    "print(\"---- Iterating over the entire list ---\")\n",
    "for item in myList:\n",
    "    print(item)"
   ]
  },
  {
   "cell_type": "code",
   "execution_count": 18,
   "metadata": {},
   "outputs": [
    {
     "name": "stdout",
     "output_type": "stream",
     "text": [
      "12\n",
      "2\n",
      "23\n"
     ]
    }
   ],
   "source": [
    "# the other way of indexing in a list is through unpacking, although it's not very useful for big list\n",
    "[x,y,z] = [12,2,23]\n",
    "print(x)\n",
    "print(y)\n",
    "print(z)"
   ]
  },
  {
   "cell_type": "code",
   "execution_count": 19,
   "metadata": {},
   "outputs": [
    {
     "name": "stdout",
     "output_type": "stream",
     "text": [
      "[1, 3, 3]\n",
      "[3, 3]\n"
     ]
    }
   ],
   "source": [
    "# You can also use unpacking in list comprehension\n",
    "list1 = [[1,1],[2,3],[4,3]]\n",
    "list2 = [y for [x,y] in list1]\n",
    "print(list2)\n",
    "list3 = [y for [x,y] in list1 if x != y]\n",
    "print(list3)"
   ]
  },
  {
   "cell_type": "code",
   "execution_count": 20,
   "metadata": {},
   "outputs": [
    {
     "name": "stdout",
     "output_type": "stream",
     "text": [
      "['hello', [2, 3], [4, 3]]\n"
     ]
    }
   ],
   "source": [
    "# mutate a list through indexing\n",
    "list1[0]= 'hello'\n",
    "print(list1)"
   ]
  },
  {
   "cell_type": "markdown",
   "metadata": {},
   "source": [
    "** Slices: ** \n",
    "- a slice of a list is a new list consisting of a consecutive subsequence of elements of the old list, namely those indexed by a range of integers. \n",
    "- the range is specified by a colon-pair i:j consisting of the index i as the first element and j as one past the index of the last element. \n",
    "- Ex: myList[1:3] contains the first and the second of mylist\n",
    "- **Prefixes:** if the first element i of the pair is 0,it can be obmitted, myList[:2]\n",
    "- **Suffixes:** if the second element j of the pair is the length of the list, it can be obmitted, myList[1:]\n"
   ]
  },
  {
   "cell_type": "code",
   "execution_count": 21,
   "metadata": {},
   "outputs": [
    {
     "name": "stdout",
     "output_type": "stream",
     "text": [
      "original list: [10, 20, 30, 490, 30, 20, 40, 50, 60, 70]\n",
      "if you do A[1:3]: [20, 30]\n",
      "if you do A[:3]: [10, 20, 30]\n",
      "if you do A[3:]: [490, 30, 20, 40, 50, 60, 70]\n"
     ]
    }
   ],
   "source": [
    "A = [10,20,30,490,30,20,40,50,60,70]\n",
    "print('original list:',A)\n",
    "print('if you do A[1:3]:',A[1:3])\n",
    "print('if you do A[:3]:',A[:3])\n",
    "print('if you do A[3:]:',A[3:])"
   ]
  },
  {
   "cell_type": "markdown",
   "metadata": {},
   "source": [
    "** Slice the skip: ** You could also slice through element using a **tuple *a:b:c* **"
   ]
  },
  {
   "cell_type": "code",
   "execution_count": 22,
   "metadata": {},
   "outputs": [
    {
     "name": "stdout",
     "output_type": "stream",
     "text": [
      "[10, 30, 30, 40, 60]\n",
      "[20, 490, 20, 50, 70]\n",
      "[20]\n"
     ]
    }
   ],
   "source": [
    "myList = A[::2] # this command prints out the list of even-indexed elements, starting at index 0\n",
    "myOddList= A[1::2] # ... odd-indexed elements, starting at index 1\n",
    "print(myList)\n",
    "print(myOddList)\n",
    "print(A[1:2]) # this is the same as the normal slicing."
   ]
  },
  {
   "cell_type": "markdown",
   "metadata": {},
   "source": [
    "<a id = 'tuples'></a>\n",
    "## Tuples ( )\n",
    "- similar to a list, a tuple is an ordered sequence of elements. \n",
    "- However, tuples are ** immutable **(similar to sets,unlike lists) so they can be elements of sets.\n",
    "- Tuples use parenthesis ( ) ."
   ]
  },
  {
   "cell_type": "code",
   "execution_count": 23,
   "metadata": {},
   "outputs": [
    {
     "name": "stdout",
     "output_type": "stream",
     "text": [
      "(1, 2, 3, 4, 4)\n"
     ]
    }
   ],
   "source": [
    "a = (1,2,3,4,4)\n",
    "print(a)\n",
    "# immutable because you can't do:\n",
    "# a[0] =2"
   ]
  },
  {
   "cell_type": "code",
   "execution_count": 24,
   "metadata": {},
   "outputs": [
    {
     "name": "stdout",
     "output_type": "stream",
     "text": [
      "{0, (3, 4, 5), (1, 2, 3)}\n"
     ]
    }
   ],
   "source": [
    "# a set containing tuple\n",
    "b = {0,(1,2,3)} | {(3,4,5)}\n",
    "print(b)"
   ]
  },
  {
   "cell_type": "code",
   "execution_count": 25,
   "metadata": {},
   "outputs": [
    {
     "name": "stdout",
     "output_type": "stream",
     "text": [
      "of\n",
      "all of you\n",
      "[3, 5, 7]\n"
     ]
    }
   ],
   "source": [
    "# Obtaining elements of a tuple by indexing and unpacking\n",
    "mytuple = ('all','of','you')\n",
    "print(mytuple[1])\n",
    "(x,y,z) = mytuple\n",
    "print(x,y,z)\n",
    "# unpacking in a comprehension\n",
    "z = [y for(x,y) in [(1,3),(4,5),(6,7)]]\n",
    "print(z)"
   ]
  },
  {
   "cell_type": "code",
   "execution_count": 26,
   "metadata": {},
   "outputs": [
    {
     "name": "stdout",
     "output_type": "stream",
     "text": [
      "1 2\n",
      "1 2\n"
     ]
    }
   ],
   "source": [
    "# In some context, you can get away with no parenthesis, although to avoid confusion, it's not a good idea to practice that.\n",
    "a,b = (1,5-3)\n",
    "print(a,b)\n",
    "# or even this:\n",
    "a,b = 1,5-3\n",
    "print(a,b)"
   ]
  },
  {
   "cell_type": "markdown",
   "metadata": {},
   "source": [
    "** Obtaining a list or set from another collection: ** You can use the list(.), set(.) and tuple(.)"
   ]
  },
  {
   "cell_type": "code",
   "execution_count": 27,
   "metadata": {},
   "outputs": [
    {
     "name": "stdout",
     "output_type": "stream",
     "text": [
      "[2, 3, 4, 5, 7, 9]\n",
      "(2, 3, 4, 5, 7, 9)\n",
      "{0, 1, 2, 4, 5, 6, 7, 9}\n",
      "(1, 5, 7, 9, 0, 4, 2, 1, 6)\n",
      "{8, 1, 2, 3, 5}\n",
      "[1, 2, 3, 5, 8, 2, 3]\n"
     ]
    }
   ],
   "source": [
    "a = {4,5,3,2,5,7,9}\n",
    "b = [1,5,7,9,0,4,2,1,6]\n",
    "c = (1,2,3,5,8,2,3)\n",
    "sToList = list(a)\n",
    "sToTuple = tuple(a)\n",
    "lToSet = set(b)\n",
    "lToTuple = tuple(b)\n",
    "tToSet = set(c)\n",
    "tToList = list(c)\n",
    "print(sToList)\n",
    "print(sToTuple)\n",
    "print(lToSet)\n",
    "print(lToTuple)\n",
    "print(tToSet)\n",
    "print(tToList)"
   ]
  },
  {
   "cell_type": "markdown",
   "metadata": {},
   "source": [
    "** Tuple Comprehension ??? -> There is no such thing! It's a generator! **\n",
    "\n",
    "- there are two ways to solve this,\n",
    "    1. you can write a comprehension over a generator instead of over a list or set or tuple\n",
    "    2. transform the tuple to a list or set, with set(.) and list(.) \n",
    " "
   ]
  },
  {
   "cell_type": "code",
   "execution_count": 28,
   "metadata": {},
   "outputs": [
    {
     "name": "stdout",
     "output_type": "stream",
     "text": [
      "<generator object <genexpr> at 0x7f82384cf728>\n"
     ]
    }
   ],
   "source": [
    "# For example:\n",
    "print((i for i in [1,2,3]))"
   ]
  },
  {
   "cell_type": "markdown",
   "metadata": {},
   "source": [
    "<a id='range'></a>\n",
    "## Ranges \n",
    "- range(n):represents the sequence of integers from 0 through n-1.\n",
    "- even though a range represents a sequence, it is not a list!!! \n",
    "- Generally, we would either iterate through the elements of the range or use set(.) or list(.) "
   ]
  },
  {
   "cell_type": "code",
   "execution_count": 29,
   "metadata": {},
   "outputs": [
    {
     "name": "stdout",
     "output_type": "stream",
     "text": [
      "[0, 1, 2, 3, 4, 5, 6, 7, 8, 9, 10, 11, 12, 13, 14, 15, 16, 17, 18]\n",
      "285\n",
      "[3, 4, 5, 6, 7, 8, 9, 10, 11, 12, 13, 14, 15, 16, 17, 18, 19]\n",
      "[1, 6, 11, 16]\n"
     ]
    }
   ],
   "source": [
    "a = list(range(19)) # prints from 0 to 18\n",
    "print(a)\n",
    "s = sum({i * i for i in range(10)})\n",
    "print(s)\n",
    "b = list(range(3,20))\n",
    "print(b)\n",
    "c = list(range(1,20,5)) # iterate from 1 to 19 but step 5 every iteration\n",
    "print(c)"
   ]
  },
  {
   "cell_type": "markdown",
   "metadata": {},
   "source": [
    "<a id = 'zip'></a>\n",
    "## Zip\n",
    "- a zip is constructed from other collection all of the same length.\n",
    "- each element of the zip is a tuple consisting of one element from each of the input collections.\n"
   ]
  },
  {
   "cell_type": "code",
   "execution_count": 30,
   "metadata": {},
   "outputs": [
    {
     "name": "stdout",
     "output_type": "stream",
     "text": [
      "[(1, 2, 3), (3, 4, 4), (4, 5, 5)]\n",
      "[(1, 2, 3), (3, 4, 4), (4, 5, 5)]\n",
      "[('Wisconsin', 'Madison'), ('California', 'Sacremento'), ('Washington', 'Seattle')]\n"
     ]
    }
   ],
   "source": [
    "a = list(zip([1,3,4],[2,4,5],[3,4,5]))\n",
    "print(a)\n",
    "# this would still compile\n",
    "a = list(zip([1,3,4],[2,4,5],[3,4,5,6,7,8,8,9]))\n",
    "print(a)\n",
    "# you could get more creative\n",
    "a = list(zip(['Wisconsin','California','Washington'],['Madison','Sacremento','Seattle']))\n",
    "print(a)"
   ]
  },
  {
   "cell_type": "code",
   "execution_count": 31,
   "metadata": {},
   "outputs": [
    {
     "name": "stdout",
     "output_type": "stream",
     "text": [
      "<list_reverseiterator object at 0x7f82384dbeb8>\n",
      "[5, 4, 3, 2, 1]\n"
     ]
    }
   ],
   "source": [
    "# to iterate a list in a reversed order, use the function reversed()\n",
    "a = [1,2,3,4,5]\n",
    "b = reversed(a) # this return an iterator\n",
    "print(b)\n",
    "print([i for i in b]) # so you would have to iterate through an iterator"
   ]
  },
  {
   "cell_type": "markdown",
   "metadata": {},
   "source": [
    "<a id = 'dict'></a>\n",
    "## Dictionary \n",
    "- similar to hashmap\n",
    "- key:value\n",
    "- syntax: {key:value,key:value, ... }"
   ]
  },
  {
   "cell_type": "code",
   "execution_count": 38,
   "metadata": {},
   "outputs": [
    {
     "name": "stdout",
     "output_type": "stream",
     "text": [
      "{'Cali': 'Sacremento', 'Wisconsin': 'Madison', 'Massachussets': 'Boston'}\n",
      "Cali Sacremento\n",
      "Wisconsin Madison\n",
      "Massachussets Boston\n"
     ]
    }
   ],
   "source": [
    "capitol = {'Wisconsin':'Madison','Cali':'Sacremento','Massachussets':'Boston'}\n",
    "print(capitol)\n",
    "for cap in capitol:\n",
    "    print(cap,capitol[cap])"
   ]
  },
  {
   "cell_type": "code",
   "execution_count": 33,
   "metadata": {},
   "outputs": [
    {
     "name": "stdout",
     "output_type": "stream",
     "text": [
      "Bob\n",
      "{'Alyssa', 'Laura', 'Caroline', 'Erin', 'Mari'}\n",
      "True\n",
      "False\n",
      "no Vip try VIP\n",
      "True\n"
     ]
    }
   ],
   "source": [
    "user1 = {'name':'Bob','id':420, 'VIP':True, 'friends':{'Alyssa','Laura','Mari','Caroline','Erin'}}\n",
    "print(user1['name'])\n",
    "print(user1['friends'])\n",
    "\n",
    "#testing membership\n",
    "print('friends' in user1)\n",
    "print('Vip' in user1)\n",
    "print(user1['Vip'] if 'Vip' in user1 else 'no Vip try VIP')\n",
    "print(user1['VIP'] if 'VIP' in user1 else 'no Vip try VIP')"
   ]
  },
  {
   "cell_type": "code",
   "execution_count": 34,
   "metadata": {},
   "outputs": [
    {
     "name": "stdout",
     "output_type": "stream",
     "text": [
      "[{'id': 420, 'VIP': False, 'name': 'Aiden'}, {'id': 421, 'VIP': True, 'name': 'Bob'}, {'id': 422, 'VIP': True, 'name': 'Cindy'}]\n",
      "first user Aiden\n",
      "second user's id 421\n",
      "{'id': 420, 'VIP': False, 'name': 'Aaron'}\n"
     ]
    }
   ],
   "source": [
    "# you can create a list of dictionaries:\n",
    "myUser = [{'name':'Aiden','id':420,'VIP':False},\n",
    "          {'name':'Bob','id':421,'VIP':True},\n",
    "         {'name':'Cindy','id':422,'VIP':True}]\n",
    "print(myUser)\n",
    "print('first user',myUser[0]['name'])\n",
    "print(\"second user's id\", myUser[1]['id'])\n",
    "# mutating the dictionary\n",
    "myUser[0]['name'] ='Aaron'\n",
    "print(myUser[0])"
   ]
  },
  {
   "cell_type": "code",
   "execution_count": 35,
   "metadata": {},
   "outputs": [
    {
     "name": "stdout",
     "output_type": "stream",
     "text": [
      "{100: 1, 3: 2, 4: 0}\n",
      "{'aiden': 'smith', 'cindy': 'Davis', 'Bob': 'tunnel'}\n",
      "['aiden', 'cindy', 'Bob']\n",
      "['smith', 'Davis', 'tunnel']\n",
      "['user aiden', 'user cindy', 'user Bob']\n"
     ]
    }
   ],
   "source": [
    "# Dictionary comprehension\n",
    "a = {k:v for (k,v)in[(3,2),(4,0),(100,1)]}\n",
    "b ={name:person for(name,person) in [('aiden','smith'),('Bob','tunnel'),('cindy','Davis')]}\n",
    "print(a)\n",
    "print(b)\n",
    "# iterate the keys of the dictionary\n",
    "print([x for x in b.keys()])\n",
    "print([y for y in b.values()])\n",
    "# iterate each items / pairs\n",
    "c = [x for x in b.items()]\n",
    "# and since items is a tuple, you can unpack it\n",
    "print([\"user \"+  x for(x,y) in c])\n"
   ]
  }
 ],
 "metadata": {
  "kernelspec": {
   "display_name": "Python 3",
   "language": "python",
   "name": "python3"
  },
  "language_info": {
   "codemirror_mode": {
    "name": "ipython",
    "version": 3
   },
   "file_extension": ".py",
   "mimetype": "text/x-python",
   "name": "python",
   "nbconvert_exporter": "python",
   "pygments_lexer": "ipython3",
   "version": "3.5.2"
  }
 },
 "nbformat": 4,
 "nbformat_minor": 2
}
