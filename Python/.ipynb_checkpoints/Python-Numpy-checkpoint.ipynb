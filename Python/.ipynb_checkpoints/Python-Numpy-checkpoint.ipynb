{
 "cells": [
  {
   "cell_type": "markdown",
   "metadata": {},
   "source": [
    "# Python Numpy Tutorial\n",
    "\n",
    "- Python Tutorial starts\n",
    "- [Numpy Tutorial Starts](#numpy)<a href = \"#numpy\"></a>\n",
    "- [Matplotlib Starts](#matplotlib)<a href= \"#matplotlib\"></a>"
   ]
  },
  {
   "cell_type": "code",
   "execution_count": 6,
   "metadata": {},
   "outputs": [
    {
     "name": "stdout",
     "output_type": "stream",
     "text": [
      "[1, 1, 2, 3, 4, 10, 32]\n"
     ]
    }
   ],
   "source": [
    "# Example of how powerful Python can be\n",
    "def quicksort(arr):\n",
    "    if len(arr) <= 1:\n",
    "            return arr\n",
    "    pivot = arr[int(len(arr) / 2)]\n",
    "    left = [x for x in arr if x < pivot]\n",
    "    middle = [x for x in arr if x == pivot]\n",
    "    right = [x for x in arr if x > pivot]\n",
    "    return quicksort(left) + middle + quicksort(right)\n",
    "\n",
    "print(quicksort([10,4,3,32,2,1,1]))"
   ]
  },
  {
   "cell_type": "code",
   "execution_count": 9,
   "metadata": {},
   "outputs": [
    {
     "name": "stdout",
     "output_type": "stream",
     "text": [
      "9\n",
      "<class 'int'>\n",
      "3 9 12\n"
     ]
    }
   ],
   "source": [
    "# some basic data type caveats\n",
    "x = 3\n",
    "y = x ** 2 # exponential\n",
    "print(y)\n",
    "print(type(y))\n",
    "print(x, y, x+y)"
   ]
  },
  {
   "cell_type": "code",
   "execution_count": 11,
   "metadata": {},
   "outputs": [
    {
     "name": "stdout",
     "output_type": "stream",
     "text": [
      "True False\n"
     ]
    }
   ],
   "source": [
    "t,f = True, False\n",
    "print(t,f)"
   ]
  },
  {
   "cell_type": "code",
   "execution_count": 15,
   "metadata": {},
   "outputs": [
    {
     "name": "stdout",
     "output_type": "stream",
     "text": [
      "Logical t AND f => False\n",
      "Logical t OR f => True\n",
      "Logical NOT t =>  False\n",
      "Logical XOR t!= f => True\n",
      "Logical XOR t!= t  => False\n"
     ]
    }
   ],
   "source": [
    "#Logical AND\n",
    "print(\"Logical t AND f =>\", t and f)\n",
    "# Logical OR\n",
    "print(\"Logical t OR f =>\",t or f)\n",
    "# logical Not\n",
    "print(\"Logical NOT t => \",not t)\n",
    "# Logical XOR, exclusive or, a or b is true but not both\n",
    "print(\"Logical XOR t!= f =>\",t != f) \n",
    "print(\"Logical XOR t!= t  =>\",t != t)"
   ]
  },
  {
   "cell_type": "code",
   "execution_count": 18,
   "metadata": {},
   "outputs": [
    {
     "name": "stdout",
     "output_type": "stream",
     "text": [
      "hello world 2017 10\n"
     ]
    }
   ],
   "source": [
    "# C's printf formatting\n",
    "print(\"%s %s %d %d\" %(\"hello\",\"world\", 2017, 10))# notice there is no comma in between"
   ]
  },
  {
   "cell_type": "code",
   "execution_count": 23,
   "metadata": {},
   "outputs": [
    {
     "name": "stdout",
     "output_type": "stream",
     "text": [
      "Hello\n",
      "HELLO\n",
      "  hello\n",
      " hello \n",
      "hellllllllllllllllllllllllllo\n",
      "hello world\n"
     ]
    }
   ],
   "source": [
    "# more string caveats\n",
    "string = \"hello\"\n",
    "print(string.capitalize()) # Capitalize the first letter\n",
    "print(string.upper()) # All cap\n",
    "print(string.rjust(7)) # right justify\n",
    "print(string.center(7)) # center \n",
    "print(string.replace('l','lllllllllllll'))\n",
    "print('    hello world            '.strip()) # stripe or trim the leading and trailing whitespace"
   ]
  },
  {
   "cell_type": "markdown",
   "metadata": {},
   "source": [
    "### Containers: Lists, dictionaries, sets, and tuples"
   ]
  },
  {
   "cell_type": "code",
   "execution_count": 24,
   "metadata": {},
   "outputs": [
    {
     "name": "stdout",
     "output_type": "stream",
     "text": [
      "2 3\n"
     ]
    }
   ],
   "source": [
    "x = [1,2,3]\n",
    "print(x[1],x[-1])"
   ]
  },
  {
   "cell_type": "code",
   "execution_count": 34,
   "metadata": {},
   "outputs": [
    {
     "name": "stdout",
     "output_type": "stream",
     "text": [
      "[1, 'bar', 'foo', 'baz', 'baz', 'baz', 'baz', 'baz'] baz\n"
     ]
    }
   ],
   "source": [
    "x[2] = 'foo'\n",
    "x[1] = \"bar\"\n",
    "x.append('baz') # append a new item to the end\n",
    "y = x.pop() # pop or remove and return the last element of the list\n",
    "print(x,y)"
   ]
  },
  {
   "cell_type": "markdown",
   "metadata": {},
   "source": [
    "### slicing"
   ]
  },
  {
   "cell_type": "code",
   "execution_count": 52,
   "metadata": {},
   "outputs": [
    {
     "name": "stdout",
     "output_type": "stream",
     "text": [
      "[0, 1, 2, 3, 4]\n",
      "range(2, 4)\n",
      "range(2, 5)\n",
      "range(0, 2)\n",
      "range(0, 5)\n",
      "[0, 1, 2, 3]\n",
      "[0, 1, 8, 9, 4]\n"
     ]
    }
   ],
   "source": [
    "nums = range(5)\n",
    "print([i for i in nums])\n",
    "print(nums[2:4])\n",
    "print(nums[2:])\n",
    "print(nums[:2])\n",
    "print(nums[:])\n",
    "print([i for i in nums[:-1]])\n",
    "nums = list(nums) # have to convert range to list in newer version of python\n",
    "nums[2:4] = [8,9] # assign a new subliost to a slice\n",
    "print(nums)"
   ]
  },
  {
   "cell_type": "markdown",
   "metadata": {},
   "source": [
    "### Loops"
   ]
  },
  {
   "cell_type": "code",
   "execution_count": 58,
   "metadata": {},
   "outputs": [
    {
     "name": "stdout",
     "output_type": "stream",
     "text": [
      "This is an animal: cat\n",
      "This is an animal: dog\n",
      "This is an animal: turtle\n",
      "This is an animal: raccoon\n",
      "This is  1 animal cat\n",
      "This is  2 animal dog\n",
      "This is  3 animal turtle\n",
      "This is  4 animal raccoon\n"
     ]
    }
   ],
   "source": [
    "# Loops over all the elements using a for-in loop'\n",
    "animals = [\"cat\",\"dog\",\"turtle\",\"raccoon\"]\n",
    "for animal in animals:\n",
    "    print(\"This is an animal: %s\" %(animal))\n",
    "\n",
    "# to use an index loop\n",
    "for index,animal in enumerate(animals):\n",
    "    print(\"This is \",index+1,\"animal\",animal)"
   ]
  },
  {
   "cell_type": "markdown",
   "metadata": {},
   "source": [
    "### List comprehension"
   ]
  },
  {
   "cell_type": "code",
   "execution_count": 67,
   "metadata": {},
   "outputs": [
    {
     "name": "stdout",
     "output_type": "stream",
     "text": [
      "[4, 16, 36, 64]\n"
     ]
    }
   ],
   "source": [
    "nums = list(range(10))\n",
    "square = [x ** 2 for x in nums if x % 2 == 0 and x != 0]\n",
    "print(square)"
   ]
  },
  {
   "cell_type": "markdown",
   "metadata": {},
   "source": [
    "### Dictionary"
   ]
  },
  {
   "cell_type": "code",
   "execution_count": 96,
   "metadata": {},
   "outputs": [
    {
     "name": "stdout",
     "output_type": "stream",
     "text": [
      "Rodger\n",
      "False\n",
      "False\n"
     ]
    }
   ],
   "source": [
    "# Dictionaries\n",
    "d = {'Aaron':\"Rodger\", \"Bob\":\"Dylan\"}\n",
    "print(d['Aaron'])\n",
    "print('aaron' in d) # check if it's in the dictionary\n",
    "print('Rodger' in d)"
   ]
  },
  {
   "cell_type": "code",
   "execution_count": 97,
   "metadata": {},
   "outputs": [
    {
     "name": "stdout",
     "output_type": "stream",
     "text": [
      "Smith\n"
     ]
    }
   ],
   "source": [
    "# new entry\n",
    "d[\"Cindy\"] = 'Smith'\n",
    "print(d['Cindy'])"
   ]
  },
  {
   "cell_type": "code",
   "execution_count": 98,
   "metadata": {},
   "outputs": [
    {
     "ename": "KeyError",
     "evalue": "'David'",
     "output_type": "error",
     "traceback": [
      "\u001b[0;31m---------------------------------------------------------------------------\u001b[0m",
      "\u001b[0;31mKeyError\u001b[0m                                  Traceback (most recent call last)",
      "\u001b[0;32m<ipython-input-98-058002ba2f32>\u001b[0m in \u001b[0;36m<module>\u001b[0;34m()\u001b[0m\n\u001b[1;32m      1\u001b[0m \u001b[0;31m# access items that do not exist\u001b[0m\u001b[0;34m\u001b[0m\u001b[0;34m\u001b[0m\u001b[0m\n\u001b[0;32m----> 2\u001b[0;31m \u001b[0mprint\u001b[0m\u001b[0;34m(\u001b[0m\u001b[0md\u001b[0m\u001b[0;34m[\u001b[0m\u001b[0;34m'David'\u001b[0m\u001b[0;34m]\u001b[0m\u001b[0;34m)\u001b[0m\u001b[0;34m\u001b[0m\u001b[0m\n\u001b[0m",
      "\u001b[0;31mKeyError\u001b[0m: 'David'"
     ]
    }
   ],
   "source": [
    "# access items that do not exist\n",
    "print(d['David'])"
   ]
  },
  {
   "cell_type": "code",
   "execution_count": 99,
   "metadata": {},
   "outputs": [
    {
     "name": "stdout",
     "output_type": "stream",
     "text": [
      "Not Here\n",
      "Rodger\n"
     ]
    }
   ],
   "source": [
    "# safer way to access\n",
    "print(d.get('David', 'Not Here'))\n",
    "print(d.get('Aaron', 'Not Here'))"
   ]
  },
  {
   "cell_type": "code",
   "execution_count": 100,
   "metadata": {},
   "outputs": [
    {
     "name": "stdout",
     "output_type": "stream",
     "text": [
      "{'Bob': 'Dylan', 'Aaron': 'Rodger'}\n",
      "No longer here\n"
     ]
    }
   ],
   "source": [
    "# remove an item from the list\n",
    "del d[\"Cindy\"]\n",
    "print(d)\n",
    "# safer way to remove\n",
    "print(d.pop('Cindy','No longer here'))"
   ]
  },
  {
   "cell_type": "code",
   "execution_count": 102,
   "metadata": {},
   "outputs": [
    {
     "name": "stdout",
     "output_type": "stream",
     "text": [
      "{0: 0, 2: 4, 4: 16}\n"
     ]
    }
   ],
   "source": [
    "# Dictionary Comprehensions\n",
    "nums = list(range(5))\n",
    "even_num_to_square = {x:x**2 for x in nums if x % 2 == 0}\n",
    "print(even_num_to_square)"
   ]
  },
  {
   "cell_type": "markdown",
   "metadata": {},
   "source": [
    "### Sets"
   ]
  },
  {
   "cell_type": "code",
   "execution_count": 107,
   "metadata": {},
   "outputs": [
    {
     "name": "stdout",
     "output_type": "stream",
     "text": [
      "# 1 Raccoon\n",
      "# 2 turtle\n",
      "# 3 dog\n",
      "# 4 cat\n",
      "False\n"
     ]
    }
   ],
   "source": [
    "animals = {'cat', 'dog', 'turtle', 'Raccoon'}\n",
    "for index,animal in enumerate(animals):\n",
    "    print(\"#\",index+1, animal)\n",
    "print(\"aaron\" in animals)"
   ]
  },
  {
   "cell_type": "markdown",
   "metadata": {},
   "source": [
    "### Tuples"
   ]
  },
  {
   "cell_type": "code",
   "execution_count": 117,
   "metadata": {},
   "outputs": [
    {
     "name": "stdout",
     "output_type": "stream",
     "text": [
      "{(0, 1), (1, 2), (7, 8), (6, 7), (5, 6), (4, 5), (8, 9), (9, 10), (2, 3), (3, 4)}\n"
     ]
    }
   ],
   "source": [
    "d = {(x,x+1) for x in range(10)}\n",
    "print(d)\n"
   ]
  },
  {
   "cell_type": "markdown",
   "metadata": {},
   "source": [
    "### Classes"
   ]
  },
  {
   "cell_type": "code",
   "execution_count": 118,
   "metadata": {},
   "outputs": [
    {
     "name": "stdout",
     "output_type": "stream",
     "text": [
      "Hello World\n",
      "Hello AIDEN\n"
     ]
    }
   ],
   "source": [
    "class Greeter:\n",
    "    ## Constructor:\n",
    "    def __init__ (self,name):\n",
    "        self.name = name\n",
    "    def greet(self, loud = False):\n",
    "        if loud:\n",
    "            print('Hello',self.name.upper())\n",
    "        else:\n",
    "            print('Hello World')\n",
    "            \n",
    "g = Greeter('Aiden') # Construct an instance of the Greeter class\n",
    "g.greet()\n",
    "g.greet(True)"
   ]
  },
  {
   "cell_type": "markdown",
   "metadata": {},
   "source": [
    "<a id = \"numpy\"></a>\n",
    "## Numpy"
   ]
  },
  {
   "cell_type": "code",
   "execution_count": 119,
   "metadata": {
    "collapsed": true
   },
   "outputs": [],
   "source": [
    "import numpy as np"
   ]
  },
  {
   "cell_type": "code",
   "execution_count": 123,
   "metadata": {},
   "outputs": [
    {
     "name": "stdout",
     "output_type": "stream",
     "text": [
      "<class 'numpy.ndarray'>\n",
      "(3,)\n",
      "1\n",
      "2\n",
      "[0 1 2 3 4 5 6 7 8 9]\n"
     ]
    }
   ],
   "source": [
    "a = np.array([1,2,3])\n",
    "print(type(a))\n",
    "print(a.shape)\n",
    "print(a[0])\n",
    "print(a[1])\n",
    "\n",
    "b = np.array(list(range(10))) # works almost the same as lists in python\n",
    "print(b)"
   ]
  },
  {
   "cell_type": "code",
   "execution_count": 135,
   "metadata": {},
   "outputs": [
    {
     "name": "stdout",
     "output_type": "stream",
     "text": [
      "[[ 0  1  2  3  4  5  6  7  8  9]\n",
      " [10 11 12 13 14 15 16 17 18 19]]\n",
      "(2, 10)\n",
      "11\n"
     ]
    }
   ],
   "source": [
    "# 2D arrays are similar\n",
    "r = list(range(10))\n",
    "a = list(range(10,20))\n",
    "twoD = np.array([r,a])\n",
    "print(twoD)\n",
    "# check the dimension\n",
    "print(twoD.shape)\n",
    "# index the array\n",
    "print(twoD[1,1])"
   ]
  },
  {
   "cell_type": "code",
   "execution_count": 141,
   "metadata": {},
   "outputs": [
    {
     "name": "stdout",
     "output_type": "stream",
     "text": [
      "[[ 0.  0.  0.]\n",
      " [ 0.  0.  0.]\n",
      " [ 0.  0.  0.]]\n",
      "[[ 1.]\n",
      " [ 1.]\n",
      " [ 1.]]\n",
      "[[2222 2222 2222]\n",
      " [2222 2222 2222]\n",
      " [2222 2222 2222]]\n",
      "[[ 1.  0.  0.]\n",
      " [ 0.  1.  0.]\n",
      " [ 0.  0.  1.]]\n",
      "[[ 0.11327569  0.35854931  0.46129922]\n",
      " [ 0.65459236  0.61766151  0.67205884]\n",
      " [ 0.20173017  0.09656626  0.37774089]]\n"
     ]
    }
   ],
   "source": [
    "# some other arrays\n",
    "zero = np.zeros((3,3)) # notice the two parenthesis\n",
    "print(zero)\n",
    "one = np.ones((3,1))\n",
    "print(one)\n",
    "# a constant array\n",
    "con = np.full((3,3),2222)\n",
    "print(con)\n",
    "# create an identity matrix\n",
    "iden = np.eye(3)\n",
    "print(iden)\n",
    "# create a random matrix\n",
    "ran = np.random.random((3,3))\n",
    "print(ran)"
   ]
  },
  {
   "cell_type": "markdown",
   "metadata": {},
   "source": [
    "### Array Indexing"
   ]
  },
  {
   "cell_type": "code",
   "execution_count": 145,
   "metadata": {},
   "outputs": [
    {
     "name": "stdout",
     "output_type": "stream",
     "text": [
      "[[ 0  1  2  3  4]\n",
      " [ 5  6  7  8  9]\n",
      " [10 11 12 13 14]]\n",
      "[[1 2]\n",
      " [6 7]]\n"
     ]
    }
   ],
   "source": [
    "first = list(range(5))\n",
    "second = list(range(5,10))\n",
    "third = list(range(10,15))\n",
    "myArr = np.array([first,second,third])\n",
    "print(myArr)\n",
    "\n",
    "b = myArr[:2,1:3] # this array is still part of the original array, modify it will change the original array as well\n",
    "print(b)"
   ]
  },
  {
   "cell_type": "code",
   "execution_count": 148,
   "metadata": {},
   "outputs": [
    {
     "name": "stdout",
     "output_type": "stream",
     "text": [
      "[[    0 22222     2     3     4]\n",
      " [    5     6     7     8     9]\n",
      " [   10    11    12    13    14]]\n"
     ]
    }
   ],
   "source": [
    "b[0,0] = 22222\n",
    "print(myArr)"
   ]
  },
  {
   "cell_type": "code",
   "execution_count": 154,
   "metadata": {},
   "outputs": [
    {
     "name": "stdout",
     "output_type": "stream",
     "text": [
      "[5 6 7 8 9] \t size:  (5,)\n",
      "[[5 6 7 8 9]] \t size:  (1, 5)\n",
      "[[5 6 7 8 9]] \t size:  (1, 5)\n",
      "row 1 after reshape\t [[5 6 7 8 9]] \t shape now:  (1, 5)\n"
     ]
    }
   ],
   "source": [
    "row1 = myArr[1,:] # Rank 1 view of the second row of myArr\n",
    "row2 = myArr[1:2,:] # Rank 2 view of the second row of myArr\n",
    "row3 = myArr[[1],:] # Rank 2 view of the second row of myArr\n",
    "\n",
    "print(row1, \"\\t size: \", row1.shape)\n",
    "print(row2, \"\\t size: \", row2.shape)\n",
    "print(row3, \"\\t size: \", row3.shape)\n",
    "\n",
    "# to fix row1 you can use the reshape function\n",
    "res = row1.reshape(1,5)\n",
    "print(\"row 1 after reshape\\t\",res, \"\\t shape now: \",res.shape)"
   ]
  },
  {
   "cell_type": "code",
   "execution_count": 161,
   "metadata": {},
   "outputs": [
    {
     "name": "stdout",
     "output_type": "stream",
     "text": [
      "[[ 1  2  3]\n",
      " [ 4  5  6]\n",
      " [ 7  8  9]\n",
      " [10 11 12]]\n",
      "\n",
      "[ 1  6  7 11]\n",
      "\n",
      "[[11  2  3]\n",
      " [ 4  5 16]\n",
      " [17  8  9]\n",
      " [10 21 12]]\n"
     ]
    }
   ],
   "source": [
    "\n",
    "# one quick trick with interger array indexing is selecting or mutating one element from each row of a matrix:\n",
    "a = np.array([[1,2,3], [4,5,6], [7,8,9], [10, 11, 12]])\n",
    "print(a)\n",
    "b = np.array([0,2,0,1])\n",
    "c = a[np.arange(4),b] # the arange function is similar to python's built-in range function\n",
    "print()\n",
    "print(c)\n",
    "\n",
    "a[np.arange(4),b] += 10\n",
    "print()\n",
    "print(a)"
   ]
  },
  {
   "cell_type": "markdown",
   "metadata": {},
   "source": [
    "## Numpy Boolean Indexing"
   ]
  },
  {
   "cell_type": "code",
   "execution_count": 169,
   "metadata": {},
   "outputs": [
    {
     "name": "stdout",
     "output_type": "stream",
     "text": [
      "[[1 2]\n",
      " [3 4]\n",
      " [1 6]]\n",
      "[[False False]\n",
      " [ True  True]\n",
      " [False  True]]\n",
      "[3 4 6]\n"
     ]
    }
   ],
   "source": [
    "a = np.array([[1,2],[3,4],[1,6,]])\n",
    "print(a)\n",
    "\n",
    "bool_index = (a > 2)\n",
    "print(bool_index)\n",
    "print(a[a > 2]) # find the element that are greater than 2"
   ]
  },
  {
   "cell_type": "markdown",
   "metadata": {},
   "source": [
    "## Numpy Arithmetic\n",
    "1. np.add(x,y)\n",
    "2. np.subtract(x,y)\n",
    "3. np.multiply(x,y)\n",
    "4. np.divide(x,y)\n",
    "5. np.sqrt(x)\n",
    "6. np.dot(v,w): compute the dot product / inner product of v and w\n",
    "    - **NOTE**: when you take two matrix and dot them, it's the inner product or in other word, it's the traditional matrix multiplication that we've learned before\n",
    "7. np.sum(x) : compute the sum of all elements\n",
    "    - np.sum(x, axis = 0): sum of each column\n",
    "    - np.sum(x, axis = 1): sum of each row\n",
    "8. np.transpose(x)\n"
   ]
  },
  {
   "cell_type": "code",
   "execution_count": 196,
   "metadata": {},
   "outputs": [
    {
     "name": "stdout",
     "output_type": "stream",
     "text": [
      "arr1 [[1 2 3]\n",
      " [4 5 6]]\n",
      "\n",
      "arr2 [[3 2 1]\n",
      " [4 3 1]]\n",
      "\n",
      "shape of the vector (3,)\n",
      "Dot product of two vectors  32\n",
      "Matrix multiplication use .dot =>\n",
      " [[10 13]\n",
      " [28 37]]\n",
      "Element-wise multiplication use .multiply()=>\n",
      " [[ 3  4  3]\n",
      " [16 15  6]]\n",
      "\n",
      "Sum over all elements 21\n",
      "Sum over all column with axis = 0 => [5 7 9]\n",
      "Sum over all rows with axis = 1 =>  [ 6 15]\n"
     ]
    }
   ],
   "source": [
    "arr1 = np.array([[1,2,3],[4,5,6]]); print(\"arr1\",arr1);print();\n",
    "arr2 = np.array([[3,2,1],[4,3,1]]); print(\"arr2\",arr2); print();\n",
    "v1 = np.array([1,2,3])\n",
    "v2 = np.array([4,5,6])\n",
    "print(\"shape of the vector\" ,v1.shape)\n",
    "\n",
    "# Dot product of vector\n",
    "w = v1.dot(v2) # the dot product of two vectors are scalars\n",
    "m1 = arr1.dot(arr2.T) # this is matrix multiplication\n",
    "print(\"Dot product of two vectors \",w)\n",
    "print(\"Matrix multiplication use .dot =>\\n\" ,m1)\n",
    "m2 = np.multiply(arr1,arr2)\n",
    "print(\"Element-wise multiplication use .multiply()=>\\n\",m2)\n",
    "print()\n",
    "print(\"Sum over all elements\" , np.sum(arr1))\n",
    "print(\"Sum over all column with axis = 0 =>\", np.sum(arr1, axis = 0))\n",
    "print(\"Sum over all rows with axis = 1 => \", np.sum(arr1, axis = 1))"
   ]
  },
  {
   "cell_type": "markdown",
   "metadata": {},
   "source": [
    "### Broadcasting\n",
    "\n",
    "- the scenario is when we have a 4\\*3 matrix and we want to take a row vector and add it to every row in the matrix.\n"
   ]
  },
  {
   "cell_type": "code",
   "execution_count": 204,
   "metadata": {},
   "outputs": [
    {
     "name": "stdout",
     "output_type": "stream",
     "text": [
      "[[ 1  2  3]\n",
      " [ 4  5  6]\n",
      " [ 7  8  9]\n",
      " [10 11 12]]\n",
      "[[1 0 1]\n",
      " [1 0 1]\n",
      " [1 0 1]\n",
      " [1 0 1]]\n"
     ]
    }
   ],
   "source": [
    "x = np.array([[1,2,3], [4,5,6], [7,8,9], [10, 11, 12]])\n",
    "v = np.array([1, 0, 1])\n",
    "y = np.empty_like(x)   # Create an empty matrix with the same shape as x\n",
    "print(y)\n",
    "\n",
    "# You can use a for loop to explicitly loop through the array, which can be very slow when the matrix is large\n",
    "# alternatively, you can use the tile() function to stack the v, and then add it to the original array\n",
    "vv = np.tile(v,(4,1))\n",
    "print(vv)\n",
    "\n"
   ]
  },
  {
   "cell_type": "code",
   "execution_count": 205,
   "metadata": {},
   "outputs": [
    {
     "name": "stdout",
     "output_type": "stream",
     "text": [
      "[[ 2  2  4]\n",
      " [ 5  5  7]\n",
      " [ 8  8 10]\n",
      " [11 11 13]]\n"
     ]
    }
   ],
   "source": [
    "print(x + v) # using numpy, just one line of code, and it will automatically broadcaste the array"
   ]
  },
  {
   "cell_type": "markdown",
   "metadata": {},
   "source": [
    "Broadcasting two arrays together follows these rules:\n",
    "1. If the arrays do not have the same rank, prepend the shape of the lower rank array with 1s until both shapes have the same length.\n",
    "2. The two arrays are said to be compatible in a dimension if they have the same size in the dimension, or if one of the arrays has size 1 in that dimension.\n",
    "3. The arrays can be broadcast together if they are compatible in all dimensions.\n",
    "4. After broadcasting, each array behaves as if it had shape equal to the elementwise maximum of shapes of the two input arrays.\n",
    "5. In any dimension where one array had size 1 and the other array had size greater than 1, the first array behaves as if it were copied along that dimension"
   ]
  },
  {
   "cell_type": "code",
   "execution_count": 207,
   "metadata": {},
   "outputs": [
    {
     "name": "stdout",
     "output_type": "stream",
     "text": [
      "v1 shape  (3, 1)\n",
      "w shape (2,)\n",
      "[[ 4  5]\n",
      " [ 8 10]\n",
      " [12 15]]\n"
     ]
    }
   ],
   "source": [
    "v = np.array([1,2,3])\n",
    "w = np.array([4,5])\n",
    "# first reshape v to be a 3*1 vector\n",
    "v1 = np.reshape(v,(3,1))\n",
    "print(\"v1 shape \", v1.shape)\n",
    "print(\"w shape\", w.shape)\n",
    "print(v1 * w)"
   ]
  },
  {
   "cell_type": "markdown",
   "metadata": {},
   "source": [
    "<a id = \"matplotlib\"></a>\n",
    "# Matplotlib"
   ]
  },
  {
   "cell_type": "code",
   "execution_count": 220,
   "metadata": {},
   "outputs": [],
   "source": [
    "import matplotlib.pyplot as plt\n",
    "#use this below line only in Jupyter notebook\n",
    "%matplotlib inline"
   ]
  },
  {
   "cell_type": "code",
   "execution_count": 219,
   "metadata": {},
   "outputs": [
    {
     "data": {
      "text/plain": [
       "[<matplotlib.lines.Line2D at 0x7f729621f198>]"
      ]
     },
     "execution_count": 219,
     "metadata": {},
     "output_type": "execute_result"
    },
    {
     "data": {
      "image/png": "[encoded data removed]",
      "text/plain": [
       "<matplotlib.figure.Figure at 0x7f72984f8dd8>"
      ]
     },
     "metadata": {},
     "output_type": "display_data"
    }
   ],
   "source": [
    "x = np.arange(0,3 * np.pi, 0.1)\n",
    "y = np.sin(x)\n",
    "plt.plot(x,y)"
   ]
  },
  {
   "cell_type": "code",
   "execution_count": 221,
   "metadata": {},
   "outputs": [
    {
     "data": {
      "text/plain": [
       "<matplotlib.legend.Legend at 0x7f72961b3b38>"
      ]
     },
     "execution_count": 221,
     "metadata": {},
     "output_type": "execute_result"
    },
    {
     "data": {
      "image/png": "[encoded data removed]",
      "text/plain": [
       "<matplotlib.figure.Figure at 0x7f7296264470>"
      ]
     },
     "metadata": {},
     "output_type": "display_data"
    }
   ],
   "source": [
    "y_cos = np.cos(x)\n",
    "y_sin = np.sin(x)\n",
    "plt.plot(x, y_sin)\n",
    "plt.plot(x, y_cos)\n",
    "plt.xlabel('x axis label')\n",
    "plt.ylabel('y axis label')\n",
    "plt.title('Sine and Cosine')\n",
    "plt.legend(['Sine','Cosine'])"
   ]
  },
  {
   "cell_type": "markdown",
   "metadata": {},
   "source": [
    "### Images"
   ]
  },
  {
   "cell_type": "code",
   "execution_count": 233,
   "metadata": {},
   "outputs": [
    {
     "data": {
      "image/png": "[encoded data removed]",
      "text/plain": [
       "<matplotlib.figure.Figure at 0x7f728e968860>"
      ]
     },
     "metadata": {},
     "output_type": "display_data"
    }
   ],
   "source": [
    "from scipy.misc import imread, imresize\n",
    "\n",
    "img = imread('cat.jpg')\n",
    "\n",
    "img_tinted = img * [0.5,0.5,0.5]\n",
    "\n",
    "plt.subplot(1,2,1) # show the original image\n",
    "plt.imshow(img)\n",
    "# show the tinted image\n",
    "plt.subplot(1,2,2)\n",
    "plt.imshow(np.uint8(img_tinted))\n",
    "plt.show()"
   ]
  },
  {
   "cell_type": "code",
   "execution_count": null,
   "metadata": {
    "collapsed": true
   },
   "outputs": [],
   "source": []
  }
 ],
 "metadata": {
  "kernelspec": {
   "display_name": "Python 3",
   "language": "python",
   "name": "python3"
  },
  "language_info": {
   "codemirror_mode": {
    "name": "ipython",
    "version": 3
   },
   "file_extension": ".py",
   "mimetype": "text/x-python",
   "name": "python",
   "nbconvert_exporter": "python",
   "pygments_lexer": "ipython3",
   "version": "3.5.2"
  }
 },
 "nbformat": 4,
 "nbformat_minor": 2
}
